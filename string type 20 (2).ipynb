{
 "cells": [
  {
   "cell_type": "markdown",
   "id": "7bfa33e3-ef34-449d-80d7-2d0951c13684",
   "metadata": {},
   "source": [
    "## 1.Write a program to reverse a string."
   ]
  },
  {
   "cell_type": "code",
   "execution_count": 1,
   "id": "7d2ad130-8254-4124-9054-01e7209b6720",
   "metadata": {},
   "outputs": [
    {
     "name": "stdout",
     "output_type": "stream",
     "text": [
      "!dlroW ,olleH\n"
     ]
    }
   ],
   "source": [
    "def reverse_string(input_string):\n",
    "     reversed_string = \"\"\n",
    "     for char in input_string:\n",
    "             reversed_string = char + reversed_string\n",
    "     return reversed_string\n",
    "input_str = \"Hello, World!\"\n",
    "reversed_str = reverse_string(input_str)\n",
    "print(reversed_str)"
   ]
  },
  {
   "cell_type": "markdown",
   "id": "44e68253-0144-4621-ac89-02925f4cd0c1",
   "metadata": {},
   "source": [
    "## 2. Check if a string is a palindrome."
   ]
  },
  {
   "cell_type": "code",
   "execution_count": 2,
   "id": "0f70b623-2e88-401e-aaf0-f753af1af0ae",
   "metadata": {},
   "outputs": [
    {
     "name": "stdout",
     "output_type": "stream",
     "text": [
      "False\n",
      "False\n",
      "False\n"
     ]
    }
   ],
   "source": [
    "def is_palindrome(s):\n",
    "    s = s.lower()\n",
    "    s = ''.join(e for e in s if e.isalnum())\n",
    "    return s == s[::-1]\n",
    "print(is_palindrome(\"bikerace\"))\n",
    "print(is_palindrome(\"hello\"))\n",
    "print(is_palindrome(\"A man, a plan, , a bus ,a tiger\"))"
   ]
  },
  {
   "cell_type": "markdown",
   "id": "e8ba7b64-b492-4ef4-b701-5c17059a4611",
   "metadata": {},
   "source": [
    "## 3. Convert a string to uppercase."
   ]
  },
  {
   "cell_type": "code",
   "execution_count": 3,
   "id": "fc417692-fa85-479b-ae93-4594bdcf5715",
   "metadata": {},
   "outputs": [
    {
     "name": "stdin",
     "output_type": "stream",
     "text": [
      "Enter a string:  saikrishna \n"
     ]
    },
    {
     "name": "stdout",
     "output_type": "stream",
     "text": [
      "Uppercase string: SAIKRISHNA \n"
     ]
    }
   ],
   "source": [
    "input_string = input(\"Enter a string: \")\n",
    "uppercase_string = input_string.upper()\n",
    "print(\"Uppercase string:\", uppercase_string)"
   ]
  },
  {
   "cell_type": "markdown",
   "id": "f30491a6-fc1f-4bda-abd8-ff5020949b65",
   "metadata": {},
   "source": [
    "## 4.Convert a string to lowercase."
   ]
  },
  {
   "cell_type": "code",
   "execution_count": 4,
   "id": "7e5c9e05-290e-4fc4-81ce-695a65b4d531",
   "metadata": {},
   "outputs": [
    {
     "name": "stdin",
     "output_type": "stream",
     "text": [
      "Enter a string: PASAM SAIKRISHNA\n"
     ]
    },
    {
     "name": "stdout",
     "output_type": "stream",
     "text": [
      "lowercase string: pasam saikrishna\n"
     ]
    }
   ],
   "source": [
    "input_string = input(\"Enter a string:\")\n",
    "lowercase_string = input_string.lower()\n",
    "print(\"lowercase string:\", lowercase_string)"
   ]
  },
  {
   "cell_type": "markdown",
   "id": "dacf32bd-f966-4fa3-9555-829e48121a7e",
   "metadata": {},
   "source": [
    "## 5.Count the number of vowels in a string."
   ]
  },
  {
   "cell_type": "code",
   "execution_count": 5,
   "id": "e5194542-41f3-4a02-ae15-8e7ae6c99768",
   "metadata": {},
   "outputs": [
    {
     "name": "stdout",
     "output_type": "stream",
     "text": [
      "Number of vowels: 7\n"
     ]
    }
   ],
   "source": [
    "def count_vowels(string):\n",
    "    vowel_count = 0\n",
    "    string = string.lower()\n",
    "    vowels = set(\"aeiou\")\n",
    "    for char in string:\n",
    "        if char in vowels:\n",
    "            vowel_count += 1\n",
    "    return vowel_count\n",
    "input_string = \"Hello, how are you?\"\n",
    "result = count_vowels(input_string)\n",
    "print(\"Number of vowels:\", result)        "
   ]
  },
  {
   "cell_type": "markdown",
   "id": "aa4b82a7-c705-46c3-b58e-a6bb9c9e8508",
   "metadata": {},
   "source": [
    "## 6.Count the number of consonants in a string."
   ]
  },
  {
   "cell_type": "code",
   "execution_count": 10,
   "id": "5c2ba46c-e80d-4a0a-8cb9-7e649e9880bb",
   "metadata": {},
   "outputs": [
    {
     "name": "stdin",
     "output_type": "stream",
     "text": [
      "Enter a string:  DATA SCIENCE PRO\n"
     ]
    },
    {
     "name": "stdout",
     "output_type": "stream",
     "text": [
      "Number of consonants: 8\n"
     ]
    }
   ],
   "source": [
    "def count_consonants(string):\n",
    "     consonant_count = 0\n",
    "     consonants = \"bcdfghjklmnpqrstvwxyzBCDFGHJKLMNPQRSTVWXYZ\"\n",
    "     for char in string:\n",
    "         if char in consonants:\n",
    "             consonant_count += 1\n",
    "     return consonant_count\n",
    "input_string = input(\"Enter a string: \")\n",
    "result = count_consonants(input_string)\n",
    "print(\"Number of consonants:\", result)"
   ]
  },
  {
   "cell_type": "markdown",
   "id": "c3b98d25-c16f-456f-82e0-16b09dae3b46",
   "metadata": {},
   "source": [
    "## 7.Remove all whitespaces from a string."
   ]
  },
  {
   "cell_type": "code",
   "execution_count": 11,
   "id": "dffaf10a-5dd4-4e9c-88ce-637b90f81fd6",
   "metadata": {},
   "outputs": [
    {
     "name": "stdout",
     "output_type": "stream",
     "text": [
      "HelloWorld!How'sitgoing?\n"
     ]
    }
   ],
   "source": [
    "def remove_whitespace(input_string):\n",
    "     result = \"\"\n",
    "     for char in input_string:\n",
    "         if char != \" \":\n",
    "                result += char\n",
    "     return result\n",
    "input_string = \"Hello   World!  How's   it   going?\"\n",
    "output_string = remove_whitespace(input_string)\n",
    "print(output_string)"
   ]
  },
  {
   "cell_type": "markdown",
   "id": "9d24c9df-6c1f-4c53-9e24-7c6bacb60ede",
   "metadata": {},
   "source": [
    "## 8.Find the length of a string without using the len() function."
   ]
  },
  {
   "cell_type": "code",
   "execution_count": 12,
   "id": "a2f3ef39-57bf-4aee-9c2f-0c2d8e3da73b",
   "metadata": {},
   "outputs": [
    {
     "name": "stdout",
     "output_type": "stream",
     "text": [
      "The length of the string is: 35\n"
     ]
    }
   ],
   "source": [
    "count = 0\n",
    "for char in input_string:\n",
    "    count += 1\n",
    "print(\"The length of the string is:\", count)"
   ]
  },
  {
   "cell_type": "markdown",
   "id": "fd4e6040-3210-4278-a5d2-aa5970e97101",
   "metadata": {},
   "source": [
    "## 9.Check if a string contains a specific word."
   ]
  },
  {
   "cell_type": "code",
   "execution_count": 13,
   "id": "915ebf9c-f362-44f3-9cfc-b0a706b6a15e",
   "metadata": {},
   "outputs": [
    {
     "name": "stdin",
     "output_type": "stream",
     "text": [
      "Enter a string:  my name is saikrishna\n",
      "Enter the specific word to check for:  sai\n"
     ]
    },
    {
     "name": "stdout",
     "output_type": "stream",
     "text": [
      "The string contains the word 'sai'.\n"
     ]
    }
   ],
   "source": [
    "input_string = input(\"Enter a string: \")\n",
    "specific_word = input(\"Enter the specific word to check for: \")\n",
    "if specific_word in input_string:\n",
    "    print(f\"The string contains the word '{specific_word}'.\")\n",
    "else:\n",
    "    print(f\"The string does not contain the word '{specific_word}'.\")\n",
    "    "
   ]
  },
  {
   "cell_type": "markdown",
   "id": "84bf2b23-f79a-449e-83a2-f2640213b9d0",
   "metadata": {},
   "source": [
    "## 10.Replace a word in a string with another word."
   ]
  },
  {
   "cell_type": "code",
   "execution_count": 15,
   "id": "37ffe795-4273-46b4-91bf-dd30ba2baae7",
   "metadata": {},
   "outputs": [
    {
     "name": "stdin",
     "output_type": "stream",
     "text": [
      "Enter a sentence:  hello rock star\n",
      "Enter the word to be replaced:  hello\n",
      "Enter the new word:  world\n"
     ]
    },
    {
     "name": "stdout",
     "output_type": "stream",
     "text": [
      "Modified string: world rock star\n"
     ]
    }
   ],
   "source": [
    "input_string = input(\"Enter a sentence: \")\n",
    "old_word = input(\"Enter the word to be replaced: \")\n",
    "new_word = input(\"Enter the new word: \")\n",
    "modified_string = input_string.replace(old_word, new_word)\n",
    "print(\"Modified string:\", modified_string)"
   ]
  },
  {
   "cell_type": "markdown",
   "id": "1fa4108c-6e9d-42bf-b1f2-de5577ccf842",
   "metadata": {},
   "source": [
    "## 11.Count the occurrences of a word in a string."
   ]
  },
  {
   "cell_type": "code",
   "execution_count": 16,
   "id": "9dae8652-c79c-4c83-9fc6-9392af84a9ea",
   "metadata": {},
   "outputs": [
    {
     "name": "stdout",
     "output_type": "stream",
     "text": [
      "The word 'sample' appears 1 times in the input string.\n"
     ]
    }
   ],
   "source": [
    "def count_word_occurrences(input_string, target_word):\n",
    "    word_count = 0\n",
    "    words = input_string.split()\n",
    "    for word in words:\n",
    "        if word == target_word:\n",
    "            word_count += 1\n",
    "    return word_count\n",
    "input_string = \"This is a sample sentence. This sentence contains the word 'sample' multiple times.\"\n",
    "target_word = \"sample\"\n",
    "result = count_word_occurrences(input_string, target_word)\n",
    "print(f\"The word '{target_word}' appears {result} times in the input string.\")"
   ]
  },
  {
   "cell_type": "markdown",
   "id": "0385538b-278c-4c93-8310-f8b7a107c4fe",
   "metadata": {},
   "source": [
    "## 12.Find the first occurrence of a word in a string."
   ]
  },
  {
   "cell_type": "code",
   "execution_count": 18,
   "id": "fb770b10-2cb7-41b4-8c80-e39962061d48",
   "metadata": {},
   "outputs": [
    {
     "name": "stdout",
     "output_type": "stream",
     "text": [
      "Index of the first occurrence: 11\n"
     ]
    }
   ],
   "source": [
    "def find_first_occurrence(text, word):\n",
    "    index = text.find(word)\n",
    "    if index == -1:\n",
    "        return None \n",
    "    return index\n",
    "text = \"This is an example sentence. This sentence contains the word example.\"\n",
    "word = \"example\"\n",
    "result = find_first_occurrence(text, word)\n",
    "print(\"Index of the first occurrence:\", result)"
   ]
  },
  {
   "cell_type": "markdown",
   "id": "14cb6320-a21e-4ba8-a77c-f0357bc5ee76",
   "metadata": {},
   "source": [
    "## 13.Find the last occurrence of the word in string."
   ]
  },
  {
   "cell_type": "code",
   "execution_count": 19,
   "id": "1b9c7362-1c9d-413b-878b-b5bc66eda38d",
   "metadata": {},
   "outputs": [
    {
     "name": "stdout",
     "output_type": "stream",
     "text": [
      "Index of the last occurrence: 66\n"
     ]
    }
   ],
   "source": [
    "def find_last_occurrence(text,word):\n",
    "    index = text.rfind(word)\n",
    "    if index == -1:\n",
    "        return none\n",
    "    return index\n",
    "text = \"This is an example sentence. This sentence also contains the word example.\"\n",
    "word = \"example\"\n",
    "result = find_last_occurrence(text, word)\n",
    "print(\"Index of the last occurrence:\", result)"
   ]
  },
  {
   "cell_type": "markdown",
   "id": "7b02f422-8523-465c-822f-0fbf8fbfd20f",
   "metadata": {},
   "source": [
    "## 14.split a string into a  list of the words"
   ]
  },
  {
   "cell_type": "code",
   "execution_count": 20,
   "id": "dcb9484d-0d82-44c1-a94a-51b01087af54",
   "metadata": {},
   "outputs": [
    {
     "name": "stdout",
     "output_type": "stream",
     "text": [
      "list of words: ['This', 'is', 'an', 'example', 'sentence']\n"
     ]
    }
   ],
   "source": [
    "def split_string_into_words(text):\n",
    "    words_list =  text.split()\n",
    "    return words_list\n",
    "text = \" This is an example sentence\"\n",
    "words = split_string_into_words(text)\n",
    "print(\"list of words:\",words)"
   ]
  },
  {
   "cell_type": "markdown",
   "id": "6e33d79e-6004-4c6b-a8c7-9a0c322d0bf0",
   "metadata": {},
   "source": [
    "## 15. join a list of words into a string."
   ]
  },
  {
   "cell_type": "code",
   "execution_count": 22,
   "id": "24ef9f2e-6a49-40c8-ae3a-524c8d1129da",
   "metadata": {},
   "outputs": [
    {
     "name": "stdout",
     "output_type": "stream",
     "text": [
      "Joined string: This is an example sentence.\n"
     ]
    }
   ],
   "source": [
    "def join_words_into_string(words_list):\n",
    "    joined_string = ' '.join(words_list)\n",
    "    return joined_string\n",
    "words = [\"This\", \"is\", \"an\", \"example\", \"sentence.\"]\n",
    "text = join_words_into_string(words)\n",
    "print(\"Joined string:\", text)"
   ]
  },
  {
   "cell_type": "markdown",
   "id": "19bab8d0-b5bf-4ab4-bf93-5b42e99ac78c",
   "metadata": {},
   "source": [
    "## 16. Convert a string where words are separated by spaces to one where words are separated by underscores."
   ]
  },
  {
   "cell_type": "code",
   "execution_count": 23,
   "id": "916f37b4-c61a-4943-859a-c7f9b8f4b7d6",
   "metadata": {},
   "outputs": [
    {
     "name": "stdout",
     "output_type": "stream",
     "text": [
      "Converted text: This_is_an_example_sentence.\n"
     ]
    }
   ],
   "source": [
    "def convert_to_underscore_separated(text):\n",
    "    underscore_separated = text.replace(\" \", \"_\")\n",
    "    return underscore_separated\n",
    "text = \"This is an example sentence.\"\n",
    "converted_text = convert_to_underscore_separated(text)\n",
    "print(\"Converted text:\", converted_text)"
   ]
  },
  {
   "cell_type": "markdown",
   "id": "4e49934c-cb55-408f-9991-b57f8f6d5a1b",
   "metadata": {},
   "source": [
    "## 17.Check if a string starts with a specific word or phrase."
   ]
  },
  {
   "cell_type": "code",
   "execution_count": 24,
   "id": "0c5c43c7-5982-41dc-986c-ee181785d926",
   "metadata": {},
   "outputs": [
    {
     "name": "stdout",
     "output_type": "stream",
     "text": [
      "The text starts with the prefix.\n"
     ]
    }
   ],
   "source": [
    "def starts_with(text, prefix):\n",
    "    is_start = text.startswith(prefix)\n",
    "    return is_start\n",
    "text = \"Hello, world!\"\n",
    "prefix = \"Hello\"\n",
    "result = starts_with(text, prefix)\n",
    "if result:\n",
    "    print(\"The text starts with the prefix.\")\n",
    "else:\n",
    "    print(\"The text does not start with the prefix.\")"
   ]
  },
  {
   "cell_type": "markdown",
   "id": "d0800a01-9de2-4512-9114-19a72aa30ad6",
   "metadata": {},
   "source": [
    "## 18.check if a string ends with a specific word or phrase"
   ]
  },
  {
   "cell_type": "code",
   "execution_count": 25,
   "id": "88f4e764-1fc2-46d2-823b-68d94a795214",
   "metadata": {},
   "outputs": [
    {
     "name": "stdout",
     "output_type": "stream",
     "text": [
      "The text ends with the suffix.\n"
     ]
    }
   ],
   "source": [
    "def ends_with(text, suffix):\n",
    "    is_end = text.endswith(suffix)\n",
    "    return is_end\n",
    "text = \"Hello, world!\"\n",
    "suffix = \"world!\"\n",
    "result = ends_with(text, suffix)\n",
    "if result:\n",
    "    print(\"The text ends with the suffix.\")\n",
    "else:\n",
    "    print(\"The text does not end with the suffix.\")"
   ]
  },
  {
   "cell_type": "markdown",
   "id": "4bc71069-060e-450f-9f28-784b852ad441",
   "metadata": {},
   "source": [
    "## 19.Convert a string to title case (e.g., \"hello world\" to \"Hello World\")."
   ]
  },
  {
   "cell_type": "code",
   "execution_count": 27,
   "id": "e944c8fb-a8f6-490b-9a16-c4d80f5d263f",
   "metadata": {},
   "outputs": [
    {
     "name": "stdout",
     "output_type": "stream",
     "text": [
      "Title case: Hello World\n"
     ]
    }
   ],
   "source": [
    "def convert_to_title_case(text):\n",
    "    title_case_text = text.title()\n",
    "    return title_case_text\n",
    "text = \"hello world\"\n",
    "title_case_result = convert_to_title_case(text)\n",
    "print(\"Title case:\", title_case_result)    "
   ]
  },
  {
   "cell_type": "markdown",
   "id": "97292fca-409f-4517-b178-32faf6db9db4",
   "metadata": {},
   "source": [
    "## 20. Find the longest word in a string."
   ]
  },
  {
   "cell_type": "code",
   "execution_count": 28,
   "id": "6c3a57cb-a258-4b6d-bdcd-c0249f820ec5",
   "metadata": {},
   "outputs": [
    {
     "name": "stdout",
     "output_type": "stream",
     "text": [
      "Longest word: sentence\n"
     ]
    }
   ],
   "source": [
    "def find_longest_word(text):\n",
    "    words = text.split()  \n",
    "    longest_word = \"\"\n",
    "    max_length = 0\n",
    "    for word in words:\n",
    "        if len(word) > max_length:\n",
    "            max_length = len(word)\n",
    "            longest_word = word\n",
    "    return longest_word\n",
    "text = \"This is an example sentence with some long words.\"\n",
    "longest_word = find_longest_word(text)\n",
    "print(\"Longest word:\", longest_word)      \n",
    " "
   ]
  },
  {
   "cell_type": "markdown",
   "id": "4405275e-8199-4e38-8809-72c0e2b6eee5",
   "metadata": {},
   "source": [
    "## 21.Find the shortest word in a string.\n"
   ]
  },
  {
   "cell_type": "code",
   "execution_count": 1,
   "id": "967ad1ed-74a7-45e6-b018-79e24233b781",
   "metadata": {},
   "outputs": [
    {
     "name": "stdout",
     "output_type": "stream",
     "text": [
      "Shortest word: is\n"
     ]
    }
   ],
   "source": [
    "def find_shortest_word(text):\n",
    "    words = text.split()\n",
    "    shortest_word = None\n",
    "    min_length = float('inf')\n",
    "    for word in words:\n",
    "        if len(word) < min_length:\n",
    "            min_length = len(word)\n",
    "            shortest_word = word\n",
    "    return shortest_word\n",
    "text = \"This is an example sentence with some short words.\"\n",
    "shortest_word = find_shortest_word(text)\n",
    "print(\"Shortest word:\", shortest_word)"
   ]
  },
  {
   "cell_type": "markdown",
   "id": "6df79825-0053-4ee1-959b-1f11474eff6b",
   "metadata": {},
   "source": [
    "## 22. Reverse the order of words in a string.\n"
   ]
  },
  {
   "cell_type": "code",
   "execution_count": 2,
   "id": "e55de100-ac84-44c7-be05-fe3b879f5163",
   "metadata": {},
   "outputs": [
    {
     "name": "stdout",
     "output_type": "stream",
     "text": [
      "Shortest word: is\n"
     ]
    }
   ],
   "source": [
    "def find_shortest_word(text):\n",
    "     words = text.split()\n",
    "     shortest_word = None\n",
    "     min_length = float('inf')\n",
    "     for word in words:\n",
    "         if len(word) < min_length:\n",
    "            min_length = len(word)\n",
    "            shortest_word = word\n",
    "     return shortest_word\n",
    "text = \"This is an example sentence with some short words.\"\n",
    "shortest_word = find_shortest_word(text)\n",
    "print(\"Shortest word:\", shortest_word)\n",
    "      "
   ]
  },
  {
   "cell_type": "markdown",
   "id": "54143b6f-b553-4570-9edd-898a0a30cb3e",
   "metadata": {},
   "source": [
    "## 23. Check if a string is alphanumeric."
   ]
  },
  {
   "cell_type": "code",
   "execution_count": 3,
   "id": "117be025-727a-465c-957b-37ff616cb081",
   "metadata": {},
   "outputs": [
    {
     "name": "stdout",
     "output_type": "stream",
     "text": [
      "The string is alphanumeric.\n"
     ]
    }
   ],
   "source": [
    "def is_alphanumeric(text):\n",
    "    return text.isalnum()\n",
    "text = \"Hello123\"\n",
    "result = is_alphanumeric(text)\n",
    "if result:\n",
    "    print(\"The string is alphanumeric.\")\n",
    "else:\n",
    "    print(\"The string is not alphanumeric.\")"
   ]
  },
  {
   "cell_type": "markdown",
   "id": "b354fa39-f583-4f5c-ab74-dea4d7a6e268",
   "metadata": {},
   "source": [
    "## 24. Extract all digits from a string."
   ]
  },
  {
   "cell_type": "code",
   "execution_count": 9,
   "id": "662d6d0a-193a-4578-ac63-e21f775e7e17",
   "metadata": {},
   "outputs": [
    {
     "name": "stdout",
     "output_type": "stream",
     "text": [
      "Extracted digits: 123456\n"
     ]
    }
   ],
   "source": [
    "def extract_digits(text):\n",
    "    digits = \"\"\n",
    "    for char in text:\n",
    "        if char.isdigit():\n",
    "            digits += char\n",
    "    return digits\n",
    "text = \"Hello123World456\"\n",
    "extracted_digits = extract_digits(text)\n",
    "print(\"Extracted digits:\", extracted_digits)"
   ]
  },
  {
   "cell_type": "markdown",
   "id": "9fe66e23-f0b7-4cb5-b6e2-9e389062acc6",
   "metadata": {},
   "source": [
    "## 25. Extract all alphabets from a string."
   ]
  },
  {
   "cell_type": "code",
   "execution_count": 11,
   "id": "4877adbe-53a8-4166-98f7-675804f4e9cd",
   "metadata": {},
   "outputs": [
    {
     "name": "stdout",
     "output_type": "stream",
     "text": [
      "H e l l o W o r l d\n"
     ]
    }
   ],
   "source": [
    "def extract_alphabets(input_string):\n",
    "    alphabets = ' '.join([char for char in input_string if char.isalpha()])\n",
    "    return alphabets\n",
    "input_string = \"Hello123World456\"\n",
    "result = extract_alphabets(input_string)\n",
    "print(result)"
   ]
  },
  {
   "cell_type": "markdown",
   "id": "6fbc837d-8b11-4a87-bfe8-447443e79fa0",
   "metadata": {},
   "source": [
    "## 26. Count the number of uppercase letters in a string."
   ]
  },
  {
   "cell_type": "code",
   "execution_count": 12,
   "id": "fcb3d19b-7ec9-433e-b5f0-14318e53f777",
   "metadata": {},
   "outputs": [
    {
     "name": "stdout",
     "output_type": "stream",
     "text": [
      "6\n"
     ]
    }
   ],
   "source": [
    "def count_uppercase(input_string):\n",
    "    uppercase_count = sum(1 for char in input_string if char.isupper())\n",
    "    return uppercase_count\n",
    "input_string = \"HelloWORLD\"\n",
    "result = count_uppercase(input_string)\n",
    "print(result)"
   ]
  },
  {
   "cell_type": "markdown",
   "id": "b822f44b-2453-4c08-a9f0-985201f752b1",
   "metadata": {},
   "source": [
    "## 27. Count the number of lowercase letters in a string."
   ]
  },
  {
   "cell_type": "code",
   "execution_count": 13,
   "id": "fbdc0ee1-ce78-4c03-87ef-a699f6ae8a70",
   "metadata": {},
   "outputs": [
    {
     "name": "stdout",
     "output_type": "stream",
     "text": [
      "4\n"
     ]
    }
   ],
   "source": [
    "def count_lowercase(input_string):\n",
    "    lowercase_count = sum(1 for char in input_string if char.islower())\n",
    "    return lowercase_count\n",
    "input_string = \"HelloWORLD\"\n",
    "result = count_lowercase(input_string)\n",
    "print(result)"
   ]
  },
  {
   "cell_type": "markdown",
   "id": "47950364-324f-443d-8234-390061849bbf",
   "metadata": {},
   "source": [
    "## 28. Swap the case of each character in a string."
   ]
  },
  {
   "cell_type": "code",
   "execution_count": 14,
   "id": "9789276b-7124-4160-8b14-66ca7cb873c1",
   "metadata": {},
   "outputs": [
    {
     "name": "stdout",
     "output_type": "stream",
     "text": [
      "hELLOworld\n"
     ]
    }
   ],
   "source": [
    "def swap_case(input_string):\n",
    "    swapped_string = input_string.swapcase()\n",
    "    return swapped_string\n",
    "input_string = \"HelloWORLD\"\n",
    "result = swap_case(input_string)\n",
    "print(result)"
   ]
  },
  {
   "cell_type": "markdown",
   "id": "0ceb14ba-c3b0-47ed-9d70-40262239b586",
   "metadata": {},
   "source": [
    "## 29. Remove a specific word from a string."
   ]
  },
  {
   "cell_type": "code",
   "execution_count": 15,
   "id": "fd9e1670-75d8-4a98-8143-de6918dc100a",
   "metadata": {},
   "outputs": [
    {
     "name": "stdout",
     "output_type": "stream",
     "text": [
      "Hello world, welcome to the of programming.\n"
     ]
    }
   ],
   "source": [
    "def remove_word(input_string, word_to_remove):\n",
    "    words = input_string.split() \n",
    "    filtered_words = [word for word in words if word != word_to_remove]  \n",
    "    modified_string = ' '.join(filtered_words)  \n",
    "    return modified_string\n",
    "input_string = \"Hello world, welcome to the world of programming.\"\n",
    "word_to_remove = \"world\"\n",
    "result = remove_word(input_string, word_to_remove)\n",
    "print(result)"
   ]
  },
  {
   "cell_type": "markdown",
   "id": "beab0bbb-145a-4ad4-a5c0-a8b2bf972ce1",
   "metadata": {},
   "source": [
    "## 30. Check if a string is a valid email address."
   ]
  },
  {
   "cell_type": "code",
   "execution_count": 17,
   "id": "8c21ae62-f26a-4b7e-889e-3b9f0fb46b36",
   "metadata": {},
   "outputs": [
    {
     "name": "stdout",
     "output_type": "stream",
     "text": [
      "True\n",
      "False\n"
     ]
    }
   ],
   "source": [
    "import re \n",
    "def is_valid_email(email):\n",
    "    pattern = r'^[\\w\\.-]+@[\\w\\.-]+\\.\\w+$'  \n",
    "    if re.match(pattern, email):\n",
    "        return True\n",
    "    else:\n",
    "        return False\n",
    "\n",
    "# Example email addresses\n",
    "email1 = \"example@email.com\"\n",
    "email2 = \"invalid-email\"\n",
    "result1 = is_valid_email(email1)\n",
    "result2 = is_valid_email(email2)\n",
    "print(result1)\n",
    "print(result2)"
   ]
  },
  {
   "cell_type": "code",
   "execution_count": null,
   "id": "c13091fd-a9a5-4fbb-a251-cd764f873b0b",
   "metadata": {},
   "outputs": [],
   "source": []
  }
 ],
 "metadata": {
  "kernelspec": {
   "display_name": "Python 3 (ipykernel)",
   "language": "python",
   "name": "python3"
  },
  "language_info": {
   "codemirror_mode": {
    "name": "ipython",
    "version": 3
   },
   "file_extension": ".py",
   "mimetype": "text/x-python",
   "name": "python",
   "nbconvert_exporter": "python",
   "pygments_lexer": "ipython3",
   "version": "3.10.8"
  }
 },
 "nbformat": 4,
 "nbformat_minor": 5
}
